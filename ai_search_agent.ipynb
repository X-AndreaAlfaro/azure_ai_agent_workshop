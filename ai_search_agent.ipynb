{
 "cells": [
  {
   "cell_type": "markdown",
   "id": "2c4d62b3",
   "metadata": {},
   "source": [
    "Azure AI Agent - AI Search agent"
   ]
  },
  {
   "cell_type": "markdown",
   "id": "cb23f2ec",
   "metadata": {},
   "source": [
    "Create Azure AI Search agent to search over the documents indexed using Azure AI search service"
   ]
  },
  {
   "cell_type": "code",
   "execution_count": 13,
   "id": "6e6d7dd1",
   "metadata": {},
   "outputs": [],
   "source": [
    "#install dependencies\n",
    "#%pip install -r requirements.txt"
   ]
  },
  {
   "cell_type": "code",
   "execution_count": 16,
   "id": "ce769d22",
   "metadata": {},
   "outputs": [],
   "source": [
    "import os\n",
    "from datetime import datetime as pydatetime\n",
    "from typing import Any, List, Dict\n",
    "from dotenv import load_dotenv\n",
    "# Azure AI Projects\n",
    "from azure.identity import DefaultAzureCredential\n",
    "from azure.ai.projects import AIProjectClient\n",
    "from azure.ai.projects.models import ConnectionType\n",
    "from azure.ai.projects.models import AzureAISearchTool, AzureAISearchQueryType\n"
   ]
  },
  {
   "cell_type": "code",
   "execution_count": 17,
   "id": "bffebe8a",
   "metadata": {},
   "outputs": [
    {
     "data": {
      "text/plain": [
       "True"
      ]
     },
     "execution_count": 17,
     "metadata": {},
     "output_type": "execute_result"
    }
   ],
   "source": [
    "#rename credentials.txt file to credentials.env file before running this, and provide required config values\n",
    "load_dotenv(\"credentials.env\")"
   ]
  },
  {
   "cell_type": "markdown",
   "id": "502cc5d9",
   "metadata": {},
   "source": [
    "Check version of ai projects library"
   ]
  },
  {
   "cell_type": "code",
   "execution_count": 18,
   "id": "8ba47bbf",
   "metadata": {},
   "outputs": [
    {
     "name": "stdout",
     "output_type": "stream",
     "text": [
      "1.0.0b10\n"
     ]
    }
   ],
   "source": [
    "import azure.ai.projects\n",
    "print(azure.ai.projects.__version__)"
   ]
  },
  {
   "cell_type": "code",
   "execution_count": 19,
   "id": "3ce9c12a",
   "metadata": {},
   "outputs": [],
   "source": [
    "# Create Client and Load Azure AI Foundry project client\n",
    "credential = DefaultAzureCredential()\n",
    "project_client = AIProjectClient.from_connection_string(\n",
    "    credential=credential,\n",
    "    scope=['https://management.azure.com','https://management.core.windows.net','https://management.core.windows.net/','https://management.core.windows.net','https://management.azure.com/','https://management.azure.com'],\n",
    "    conn_str=os.environ[\"AIPROJECT_CONNECTION_STRING\"],   \n",
    ")"
   ]
  },
  {
   "cell_type": "code",
   "execution_count": 20,
   "id": "313b081e",
   "metadata": {},
   "outputs": [
    {
     "name": "stdout",
     "output_type": "stream",
     "text": [
      "Found 7 agents:\n",
      "- FabricLH2-DataAgent2 (ID: asst_JYvI8L1xuap9zqE5NLVVyvcC)\n",
      "- Agent193 (ID: asst_KDVZmGnuwyUPAIB9CIHCleRy)\n",
      "- Agent537 (ID: asst_dGh6zkzAf48NKw1Xyr4JkFtY)\n",
      "- AISearchAgent (ID: asst_b3Fe2GACrZrmgtJbGHOl6EiM)\n",
      "- AISearch_Agent (ID: asst_Y90HCxqazgc0LC9MRkDFWURu)\n",
      "- Agent766 (ID: asst_TLIGQPj8JcsoQpGwJh5wjFTi)\n",
      "- FabricLH2-DataAgent (ID: asst_yMSAqwYv2pCZs8xuSaNiAPET)\n"
     ]
    }
   ],
   "source": [
    "# List all agents to see what's already available\n",
    "all_agents = project_client.agents.list_agents().data\n",
    "print(f\"Found {len(all_agents)} agents:\")\n",
    "for agent in all_agents:\n",
    "\tprint(f\"- {agent.name} (ID: {agent.id})\")"
   ]
  },
  {
   "cell_type": "code",
   "execution_count": 21,
   "id": "674b3409",
   "metadata": {},
   "outputs": [
    {
     "name": "stdout",
     "output_type": "stream",
     "text": [
      "{\n",
      " \"name\": \"aiworkshop2aisearch\",\n",
      " \"id\": \"/subscriptions/74a008ce-fe34-4b7a-a4e7-012f6ca145c8/resourceGroups/aiworkshop2/providers/Microsoft.MachineLearningServices/workspaces/aiworkshop2-project1/connections/aiworkshop2aisearch\",\n",
      " \"authentication_type\": \"AAD\",\n",
      " \"connection_type\": \"ConnectionType.AZURE_AI_SEARCH\",\n",
      " \"endpoint_url\": \"https://aiworkshop2-aisearch.search.windows.net\",\n",
      " \"key\": null\n",
      " \"token_credential\": \"REDACTED\"\n",
      "}\n",
      "\n"
     ]
    }
   ],
   "source": [
    "\n",
    "aisearch_connection_name = os.getenv(\"AISEARCH_CONNECTION_NAME\")\n",
    "\n",
    "aisearch_connection = project_client.connections.get(\n",
    "    connection_name=aisearch_connection_name,    \n",
    "    include_credentials=True,  # Optional. Defaults to \"False\".\n",
    ")\n",
    "print(aisearch_connection)"
   ]
  },
  {
   "cell_type": "markdown",
   "id": "4c92c54e",
   "metadata": {},
   "source": [
    "Create new AI search agent"
   ]
  },
  {
   "cell_type": "code",
   "execution_count": 22,
   "id": "3767c73e",
   "metadata": {},
   "outputs": [
    {
     "name": "stdout",
     "output_type": "stream",
     "text": [
      "/subscriptions/74a008ce-fe34-4b7a-a4e7-012f6ca145c8/resourceGroups/aiworkshop2/providers/Microsoft.MachineLearningServices/workspaces/aiworkshop2-project1/connections/aiworkshop2aisearch\n"
     ]
    }
   ],
   "source": [
    "\n",
    "conn_id = aisearch_connection.id\n",
    "indexName = os.getenv(\"AISEARCH_INDEX_NAME\")\n",
    "print(conn_id)\n",
    "\n",
    "# Initialize agent AI search tool and add the search index connection id\n",
    "ai_search = AzureAISearchTool(\n",
    "    index_connection_id=conn_id, index_name=indexName, query_type=AzureAISearchQueryType.SEMANTIC, top_k=3, filter=\"\"\n",
    ")\n",
    "\n",
    "# Create agent with AI search tool and process assistant run\n",
    "\n",
    "agent = project_client.agents.create_agent(\n",
    "    model=os.getenv(\"AZURE_OPENAI_CHAT_DEPLOYMENT_NAME\"),\n",
    "    name=\"AISearchAgent\",\n",
    "    instructions=\"You are a helpful assistant\",\n",
    "    tools=ai_search.definitions,\n",
    "    tool_resources=ai_search.resources\n",
    ")"
   ]
  },
  {
   "cell_type": "code",
   "execution_count": 23,
   "id": "ea53e5f1",
   "metadata": {},
   "outputs": [],
   "source": [
    "input_prompt = \"does perks plus cover gym membership?\""
   ]
  },
  {
   "cell_type": "code",
   "execution_count": 24,
   "id": "9cac837b",
   "metadata": {},
   "outputs": [
    {
     "name": "stdout",
     "output_type": "stream",
     "text": [
      "Created thread, ID: thread_tEcxaNfBCWZTMziSpoApbBYE\n",
      "Created message, ID: msg_xYsw0hiqmFTiKsbwefz9tBJC\n"
     ]
    }
   ],
   "source": [
    "# Create thread for communication\n",
    "thread = project_client.agents.create_thread()\n",
    "print(f\"Created thread, ID: {thread.id}\")\n",
    "\n",
    "# Create message to thread\n",
    "# Remember to update the message with your data\n",
    "message = project_client.agents.create_message(\n",
    "    thread_id=thread.id,\n",
    "    role=\"user\",\n",
    "    content=input_prompt,\n",
    ")\n",
    "print(f\"Created message, ID: {message.id}\")"
   ]
  },
  {
   "cell_type": "code",
   "execution_count": 25,
   "id": "136a3b8b",
   "metadata": {},
   "outputs": [
    {
     "name": "stdout",
     "output_type": "stream",
     "text": [
      "Run finished with status: RunStatus.COMPLETED\n",
      "Messages: {'object': 'list', 'data': [{'id': 'msg_BlRH4wcZHvGp8xibTB5xjdqy', 'object': 'thread.message', 'created_at': 1747347286, 'assistant_id': 'asst_46s7YBsdt5Fvsyn4W9ns5Khh', 'thread_id': 'thread_tEcxaNfBCWZTMziSpoApbBYE', 'run_id': 'run_fkimZd26nAVR8A19jQMzhmsj', 'role': 'assistant', 'content': [{'type': 'text', 'text': {'value': \"Perks Plus typically offers various employee benefits, including wellness programs, but coverage for gym memberships can vary depending on the specific plan or company policies. It's best to check directly with your HR department or the Perks Plus program details to understand what is covered regarding gym memberships.\", 'annotations': []}}], 'attachments': [], 'metadata': {}}, {'id': 'msg_xYsw0hiqmFTiKsbwefz9tBJC', 'object': 'thread.message', 'created_at': 1747347282, 'assistant_id': None, 'thread_id': 'thread_tEcxaNfBCWZTMziSpoApbBYE', 'run_id': None, 'role': 'user', 'content': [{'type': 'text', 'text': {'value': 'does perks plus cover gym membership?', 'annotations': []}}], 'attachments': [], 'metadata': {}}], 'first_id': 'msg_BlRH4wcZHvGp8xibTB5xjdqy', 'last_id': 'msg_xYsw0hiqmFTiKsbwefz9tBJC', 'has_more': False}\n"
     ]
    }
   ],
   "source": [
    "# Create and process agent run in thread with tools\n",
    "run = project_client.agents.create_and_process_run(thread_id=thread.id, agent_id=agent.id)\n",
    "print(f\"Run finished with status: {run.status}\")\n",
    "\n",
    "if run.status == \"failed\":\n",
    "    print(f\"Run failed: {run.last_error}\")\n",
    "\n",
    "# Fetch and log all messages\n",
    "messages = project_client.agents.list_messages(thread_id=thread.id)\n",
    "print(f\"Messages: {messages}\")"
   ]
  },
  {
   "cell_type": "markdown",
   "id": "df16d55a",
   "metadata": {},
   "source": [
    "Response recvd: "
   ]
  },
  {
   "cell_type": "code",
   "execution_count": 26,
   "id": "82b83be6",
   "metadata": {},
   "outputs": [
    {
     "name": "stdout",
     "output_type": "stream",
     "text": [
      "Perks Plus typically offers various employee benefits, including wellness programs, but coverage for gym memberships can vary depending on the specific plan or company policies. It's best to check directly with your HR department or the Perks Plus program details to understand what is covered regarding gym memberships.\n"
     ]
    }
   ],
   "source": [
    "agent_response = messages.data[0].content[0].text.value# Get the content of the first message]\n",
    "print(agent_response)"
   ]
  },
  {
   "cell_type": "markdown",
   "id": "27f1d710",
   "metadata": {},
   "source": [
    "Clean up"
   ]
  },
  {
   "cell_type": "code",
   "execution_count": 27,
   "id": "a60211bd",
   "metadata": {},
   "outputs": [
    {
     "name": "stdout",
     "output_type": "stream",
     "text": [
      "Deleted agent\n",
      "Deleted thread\n"
     ]
    }
   ],
   "source": [
    "\n",
    "# Delete the assistant when done\n",
    "project_client.agents.delete_agent(agent.id)\n",
    "print(\"Deleted agent\")\n",
    "project_client.agents.delete_thread(thread.id)\n",
    "print(\"Deleted thread\")"
   ]
  },
  {
   "cell_type": "code",
   "execution_count": null,
   "id": "2cc97074",
   "metadata": {},
   "outputs": [],
   "source": []
  }
 ],
 "metadata": {
  "kernelspec": {
   "display_name": "Python 3",
   "language": "python",
   "name": "python3"
  },
  "language_info": {
   "codemirror_mode": {
    "name": "ipython",
    "version": 3
   },
   "file_extension": ".py",
   "mimetype": "text/x-python",
   "name": "python",
   "nbconvert_exporter": "python",
   "pygments_lexer": "ipython3",
   "version": "3.12.1"
  }
 },
 "nbformat": 4,
 "nbformat_minor": 5
}
