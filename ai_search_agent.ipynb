{
 "cells": [
  {
   "cell_type": "markdown",
   "id": "2c4d62b3",
   "metadata": {},
   "source": [
    "# Azure AI Agent Service - AI Search"
   ]
  },
  {
   "cell_type": "markdown",
   "id": "cb23f2ec",
   "metadata": {},
   "source": [
    "### *Create Azure AI Search agent to search over the documents indexed using Azure AI search service*"
   ]
  },
  {
   "cell_type": "markdown",
   "id": "dc0015a9",
   "metadata": {},
   "source": [
    "<span style=\"color:yellow\"> Please refer *pre-requisite* section in readme file before running this notebook! </span>\n"
   ]
  },
  {
   "cell_type": "markdown",
   "id": "ef4b6ab0",
   "metadata": {},
   "source": [
    "#### Step 1\n",
    "\n",
    "* Rename *credentials.txt* file to *credentials.env* file \n",
    "\n",
    "* Add all required configuration values in the *credentials.env* file\n",
    "\n",
    "* Select kernel as *Python 3* in the top right corner of the notebook\n"
   ]
  },
  {
   "cell_type": "markdown",
   "id": "5d6983d5",
   "metadata": {},
   "source": [
    "#### Step 2\n",
    "\n",
    "* Login to Azure account, by following the below steps:\n",
    "\n",
    "    * Right click on this notebook from left menu and open in terminal\n",
    "    \n",
    "    * Run the command `az login` and follow the instructions to login to your Azure account"
   ]
  },
  {
   "cell_type": "markdown",
   "id": "e0262975",
   "metadata": {},
   "source": [
    "#### Step 3\n",
    "* Install the required packages by running the below command"
   ]
  },
  {
   "cell_type": "code",
   "execution_count": null,
   "id": "6e6d7dd1",
   "metadata": {},
   "outputs": [
    {
     "name": "stdout",
     "output_type": "stream",
     "text": [
      "Defaulting to user installation because normal site-packages is not writeable\n",
      "Requirement already satisfied: pandas in /home/vscode/.local/lib/python3.12/site-packages (from -r requirements.txt (line 1)) (2.2.3)\n",
      "Requirement already satisfied: numpy in /home/vscode/.local/lib/python3.12/site-packages (from -r requirements.txt (line 2)) (2.2.5)\n",
      "Requirement already satisfied: python-dotenv in /home/vscode/.local/lib/python3.12/site-packages (from -r requirements.txt (line 3)) (1.1.0)\n",
      "Requirement already satisfied: azure-ai-projects==1.0.0b10 in /home/vscode/.local/lib/python3.12/site-packages (from -r requirements.txt (line 4)) (1.0.0b10)\n",
      "Requirement already satisfied: azure-identity in /home/vscode/.local/lib/python3.12/site-packages (from -r requirements.txt (line 5)) (1.23.0)\n",
      "Requirement already satisfied: azure-search-documents in /home/vscode/.local/lib/python3.12/site-packages (from -r requirements.txt (line 6)) (11.5.2)\n",
      "Requirement already satisfied: azure-ai-inference[prompts] in /home/vscode/.local/lib/python3.12/site-packages (from -r requirements.txt (line 7)) (1.0.0b9)\n",
      "Requirement already satisfied: isodate>=0.6.1 in /home/vscode/.local/lib/python3.12/site-packages (from azure-ai-projects==1.0.0b10->-r requirements.txt (line 4)) (0.7.2)\n",
      "Requirement already satisfied: azure-core>=1.30.0 in /home/vscode/.local/lib/python3.12/site-packages (from azure-ai-projects==1.0.0b10->-r requirements.txt (line 4)) (1.34.0)\n",
      "Requirement already satisfied: typing-extensions>=4.12.2 in /home/vscode/.local/lib/python3.12/site-packages (from azure-ai-projects==1.0.0b10->-r requirements.txt (line 4)) (4.13.2)\n",
      "Requirement already satisfied: python-dateutil>=2.8.2 in /home/vscode/.local/lib/python3.12/site-packages (from pandas->-r requirements.txt (line 1)) (2.9.0.post0)\n",
      "Requirement already satisfied: pytz>=2020.1 in /home/vscode/.local/lib/python3.12/site-packages (from pandas->-r requirements.txt (line 1)) (2025.2)\n",
      "Requirement already satisfied: tzdata>=2022.7 in /home/vscode/.local/lib/python3.12/site-packages (from pandas->-r requirements.txt (line 1)) (2025.2)\n",
      "Requirement already satisfied: cryptography>=2.5 in /home/vscode/.local/lib/python3.12/site-packages (from azure-identity->-r requirements.txt (line 5)) (44.0.3)\n",
      "Requirement already satisfied: msal>=1.30.0 in /home/vscode/.local/lib/python3.12/site-packages (from azure-identity->-r requirements.txt (line 5)) (1.32.3)\n",
      "Requirement already satisfied: msal-extensions>=1.2.0 in /home/vscode/.local/lib/python3.12/site-packages (from azure-identity->-r requirements.txt (line 5)) (1.3.1)\n",
      "Requirement already satisfied: azure-common>=1.1 in /home/vscode/.local/lib/python3.12/site-packages (from azure-search-documents->-r requirements.txt (line 6)) (1.1.28)\n",
      "Requirement already satisfied: pyyaml in /home/vscode/.local/lib/python3.12/site-packages (from azure-ai-inference[prompts]->-r requirements.txt (line 7)) (6.0.2)\n",
      "Requirement already satisfied: requests>=2.21.0 in /home/vscode/.local/lib/python3.12/site-packages (from azure-core>=1.30.0->azure-ai-projects==1.0.0b10->-r requirements.txt (line 4)) (2.32.3)\n",
      "Requirement already satisfied: six>=1.11.0 in /home/vscode/.local/lib/python3.12/site-packages (from azure-core>=1.30.0->azure-ai-projects==1.0.0b10->-r requirements.txt (line 4)) (1.17.0)\n",
      "Requirement already satisfied: cffi>=1.12 in /home/vscode/.local/lib/python3.12/site-packages (from cryptography>=2.5->azure-identity->-r requirements.txt (line 5)) (1.17.1)\n",
      "Requirement already satisfied: pycparser in /home/vscode/.local/lib/python3.12/site-packages (from cffi>=1.12->cryptography>=2.5->azure-identity->-r requirements.txt (line 5)) (2.22)\n",
      "Requirement already satisfied: PyJWT<3,>=1.0.0 in /home/vscode/.local/lib/python3.12/site-packages (from PyJWT[crypto]<3,>=1.0.0->msal>=1.30.0->azure-identity->-r requirements.txt (line 5)) (2.10.1)\n",
      "Requirement already satisfied: charset-normalizer<4,>=2 in /home/vscode/.local/lib/python3.12/site-packages (from requests>=2.21.0->azure-core>=1.30.0->azure-ai-projects==1.0.0b10->-r requirements.txt (line 4)) (3.4.2)\n",
      "Requirement already satisfied: idna<4,>=2.5 in /home/vscode/.local/lib/python3.12/site-packages (from requests>=2.21.0->azure-core>=1.30.0->azure-ai-projects==1.0.0b10->-r requirements.txt (line 4)) (3.10)\n",
      "Requirement already satisfied: urllib3<3,>=1.21.1 in /home/vscode/.local/lib/python3.12/site-packages (from requests>=2.21.0->azure-core>=1.30.0->azure-ai-projects==1.0.0b10->-r requirements.txt (line 4)) (2.4.0)\n",
      "Requirement already satisfied: certifi>=2017.4.17 in /home/vscode/.local/lib/python3.12/site-packages (from requests>=2.21.0->azure-core>=1.30.0->azure-ai-projects==1.0.0b10->-r requirements.txt (line 4)) (2025.4.26)\n",
      "Note: you may need to restart the kernel to use updated packages.\n"
     ]
    }
   ],
   "source": [
    "#install dependencies\n",
    "%pip install -r requirements.txt"
   ]
  },
  {
   "cell_type": "code",
   "execution_count": 20,
   "id": "ce769d22",
   "metadata": {},
   "outputs": [],
   "source": [
    "import os\n",
    "from datetime import datetime as pydatetime\n",
    "from typing import Any, List, Dict\n",
    "from dotenv import load_dotenv\n",
    "# Azure AI Projects\n",
    "from azure.identity import DefaultAzureCredential\n",
    "from azure.ai.projects import AIProjectClient\n",
    "from azure.ai.projects.models import ConnectionType\n",
    "from azure.ai.projects.models import AzureAISearchTool, AzureAISearchQueryType\n"
   ]
  },
  {
   "cell_type": "markdown",
   "id": "ae21042e",
   "metadata": {},
   "source": [
    "Load variables from env file"
   ]
  },
  {
   "cell_type": "code",
   "execution_count": 34,
   "id": "bffebe8a",
   "metadata": {},
   "outputs": [],
   "source": [
    "# load secrets\n",
    "load_dotenv(\"credentials.env\", override=True)\n",
    "aiConnectionStr=os.environ[\"AIPROJECT_CONNECTION_STRING\"]\n",
    "modelName=os.getenv(\"AZURE_OPENAI_CHAT_DEPLOYMENT_NAME\")\n",
    "aiSearchConnectionName = os.getenv(\"AISEARCH_CONNECTION_NAME\")\n",
    "indexName = os.getenv(\"AISEARCH_INDEX_NAME\")"
   ]
  },
  {
   "cell_type": "markdown",
   "id": "502cc5d9",
   "metadata": {},
   "source": [
    "Check version of AI projects library. Make sure you are using version 1.0.0b10"
   ]
  },
  {
   "cell_type": "code",
   "execution_count": 22,
   "id": "8ba47bbf",
   "metadata": {},
   "outputs": [
    {
     "name": "stdout",
     "output_type": "stream",
     "text": [
      "1.0.0b10\n"
     ]
    }
   ],
   "source": [
    "import azure.ai.projects\n",
    "print(azure.ai.projects.__version__)"
   ]
  },
  {
   "cell_type": "code",
   "execution_count": null,
   "id": "3ce9c12a",
   "metadata": {},
   "outputs": [],
   "source": [
    "# Create Client and Load Azure AI Foundry project client\n",
    "credential = DefaultAzureCredential(exclude_interactive_browser_credential=False)\n",
    "project_client = AIProjectClient.from_connection_string(\n",
    "    credential=credential,\n",
    "    scope=['https://management.azure.com','https://management.core.windows.net','https://management.core.windows.net/','https://management.core.windows.net','https://management.azure.com/','https://management.azure.com'],\n",
    "    conn_str=aiConnectionStr,   \n",
    ")"
   ]
  },
  {
   "cell_type": "code",
   "execution_count": 24,
   "id": "313b081e",
   "metadata": {},
   "outputs": [
    {
     "name": "stdout",
     "output_type": "stream",
     "text": [
      "Found 7 agents:\n",
      "- FabricLH2-DataAgent2 (ID: asst_JYvI8L1xuap9zqE5NLVVyvcC)\n",
      "- Agent193 (ID: asst_KDVZmGnuwyUPAIB9CIHCleRy)\n",
      "- Agent537 (ID: asst_dGh6zkzAf48NKw1Xyr4JkFtY)\n",
      "- AISearchAgent (ID: asst_b3Fe2GACrZrmgtJbGHOl6EiM)\n",
      "- AISearch_Agent (ID: asst_Y90HCxqazgc0LC9MRkDFWURu)\n",
      "- Agent766 (ID: asst_TLIGQPj8JcsoQpGwJh5wjFTi)\n",
      "- FabricLH2-DataAgent (ID: asst_yMSAqwYv2pCZs8xuSaNiAPET)\n"
     ]
    }
   ],
   "source": [
    "# List all agents to see what's already available\n",
    "all_agents = project_client.agents.list_agents().data\n",
    "print(f\"Found {len(all_agents)} agents:\")\n",
    "for agent in all_agents:\n",
    "\tprint(f\"- {agent.name} (ID: {agent.id})\")"
   ]
  },
  {
   "cell_type": "code",
   "execution_count": null,
   "id": "674b3409",
   "metadata": {},
   "outputs": [
    {
     "name": "stdout",
     "output_type": "stream",
     "text": [
      "{\n",
      " \"name\": \"aiworkshop2aisearch\",\n",
      " \"id\": \"/subscriptions/74a008ce-fe34-4b7a-a4e7-012f6ca145c8/resourceGroups/aiworkshop2/providers/Microsoft.MachineLearningServices/workspaces/aiworkshop2-project1/connections/aiworkshop2aisearch\",\n",
      " \"authentication_type\": \"AAD\",\n",
      " \"connection_type\": \"ConnectionType.AZURE_AI_SEARCH\",\n",
      " \"endpoint_url\": \"https://aiworkshop2-aisearch.search.windows.net\",\n",
      " \"key\": null\n",
      " \"token_credential\": \"REDACTED\"\n",
      "}\n",
      "\n"
     ]
    }
   ],
   "source": [
    "#AI search connection\n",
    "aisearch_connection = project_client.connections.get(\n",
    "    connection_name=aiSearchConnectionName,    \n",
    "    include_credentials=True,  # Optional. Defaults to \"False\".\n",
    ")\n",
    "print(aisearch_connection)"
   ]
  },
  {
   "cell_type": "markdown",
   "id": "f649b000",
   "metadata": {},
   "source": [
    "------"
   ]
  },
  {
   "cell_type": "markdown",
   "id": "1917a2be",
   "metadata": {},
   "source": [
    "ex-1: Enter input prompt to search over the documents indexed using Azure AI search service \n",
    "and name the agent as *AISearchWorkshopAgent*"
   ]
  },
  {
   "cell_type": "code",
   "execution_count": null,
   "id": "f1751f71",
   "metadata": {},
   "outputs": [],
   "source": [
    "newAgentName = \"AISearchWorkshopAgent\"\n",
    "input_prompt = \"does perks plus cover gym membership?\""
   ]
  },
  {
   "cell_type": "markdown",
   "id": "4c92c54e",
   "metadata": {},
   "source": [
    "ex-2: Create new AI search agent"
   ]
  },
  {
   "cell_type": "code",
   "execution_count": null,
   "id": "3767c73e",
   "metadata": {},
   "outputs": [
    {
     "name": "stdout",
     "output_type": "stream",
     "text": [
      "/subscriptions/74a008ce-fe34-4b7a-a4e7-012f6ca145c8/resourceGroups/aiworkshop2/providers/Microsoft.MachineLearningServices/workspaces/aiworkshop2-project1/connections/aiworkshop2aisearch\n"
     ]
    }
   ],
   "source": [
    "\n",
    "conn_id = aisearch_connection.id\n",
    "print(conn_id)\n",
    "\n",
    "# Initialize agent AI search tool and add the search index connection id\n",
    "ai_search = AzureAISearchTool(\n",
    "    index_connection_id=conn_id, index_name=indexName, query_type=AzureAISearchQueryType.SEMANTIC, top_k=3, filter=\"\"\n",
    ")\n",
    "\n",
    "# Create agent with AI search tool and process assistant run\n",
    "\n",
    "agent = project_client.agents.create_agent(\n",
    "    model=modelName,\n",
    "    name=newAgentName,\n",
    "    instructions=\"You are a helpful assistant\",\n",
    "    tools=ai_search.definitions,\n",
    "    tool_resources=ai_search.resources\n",
    ")"
   ]
  },
  {
   "cell_type": "markdown",
   "id": "7f0f2c83",
   "metadata": {},
   "source": [
    "ex-3: Create thread and add messages to the thread"
   ]
  },
  {
   "cell_type": "code",
   "execution_count": 28,
   "id": "9cac837b",
   "metadata": {},
   "outputs": [
    {
     "name": "stdout",
     "output_type": "stream",
     "text": [
      "Created thread, ID: thread_xrl3OEcti0zlF5QI8LJHGdpX\n",
      "Created message, ID: msg_c3TGddMp3lzfy4xN6pwmdeE3\n"
     ]
    }
   ],
   "source": [
    "# Create thread for communication\n",
    "thread = project_client.agents.create_thread()\n",
    "print(f\"Created thread, ID: {thread.id}\")\n",
    "\n",
    "# Create message to thread\n",
    "# Remember to update the message with your data\n",
    "message = project_client.agents.create_message(\n",
    "    thread_id=thread.id,\n",
    "    role=\"user\",\n",
    "    content=input_prompt,\n",
    ")\n",
    "print(f\"Created message, ID: {message.id}\")"
   ]
  },
  {
   "cell_type": "markdown",
   "id": "b163b138",
   "metadata": {},
   "source": [
    "ex-4: Run the agent and get the response"
   ]
  },
  {
   "cell_type": "code",
   "execution_count": null,
   "id": "136a3b8b",
   "metadata": {},
   "outputs": [
    {
     "name": "stdout",
     "output_type": "stream",
     "text": [
      "Run finished with status: RunStatus.COMPLETED\n",
      "Messages: {'object': 'list', 'data': [{'id': 'msg_X3z63wlpaIEhazaRBRHpDICm', 'object': 'thread.message', 'created_at': 1747408133, 'assistant_id': 'asst_rD1xfVotyUT44vhSemhl9KDm', 'thread_id': 'thread_xrl3OEcti0zlF5QI8LJHGdpX', 'run_id': 'run_THCoHGwM8v4y2cGdexBwG4cR', 'role': 'assistant', 'content': [{'type': 'text', 'text': {'value': \"Perks Plus may cover gym memberships depending on the specific benefits offered by your employer's plan. Many employer-sponsored wellness programs include gym membership discounts or reimbursements as part of their benefits. To get accurate information, you should check the details of your Perks Plus plan or contact your HR department for clarification on what is specifically covered.\", 'annotations': []}}], 'attachments': [], 'metadata': {}}, {'id': 'msg_c3TGddMp3lzfy4xN6pwmdeE3', 'object': 'thread.message', 'created_at': 1747408124, 'assistant_id': None, 'thread_id': 'thread_xrl3OEcti0zlF5QI8LJHGdpX', 'run_id': None, 'role': 'user', 'content': [{'type': 'text', 'text': {'value': 'does perks plus cover gym membership?', 'annotations': []}}], 'attachments': [], 'metadata': {}}], 'first_id': 'msg_X3z63wlpaIEhazaRBRHpDICm', 'last_id': 'msg_c3TGddMp3lzfy4xN6pwmdeE3', 'has_more': False}\n"
     ]
    }
   ],
   "source": [
    "# Create and process agent run in thread with tools\n",
    "run = project_client.agents.create_and_process_run(thread_id=thread.id, agent_id=agent.id)\n",
    "print(f\"Run finished with status: {run.status}\")\n",
    "\n",
    "if run.status == \"failed\":\n",
    "    print(f\"Run failed: {run.last_error}\")\n",
    "\n",
    "# Fetch and log all messages\n",
    "messages = project_client.agents.list_messages(thread_id=thread.id)\n",
    "print(f\"Messages: {messages}\")\n"
   ]
  },
  {
   "cell_type": "markdown",
   "id": "b3043d34",
   "metadata": {},
   "source": [
    "----"
   ]
  },
  {
   "cell_type": "markdown",
   "id": "df16d55a",
   "metadata": {},
   "source": [
    "Response recvd: "
   ]
  },
  {
   "cell_type": "code",
   "execution_count": 32,
   "id": "82b83be6",
   "metadata": {},
   "outputs": [
    {
     "name": "stdout",
     "output_type": "stream",
     "text": [
      "Perks Plus may cover gym memberships depending on the specific benefits offered by your employer's plan. Many employer-sponsored wellness programs include gym membership discounts or reimbursements as part of their benefits. To get accurate information, you should check the details of your Perks Plus plan or contact your HR department for clarification on what is specifically covered.\n"
     ]
    }
   ],
   "source": [
    "agent_response = messages.data[0].content[0].text.value# Get the content of the first message]\n",
    "print(agent_response)"
   ]
  },
  {
   "cell_type": "markdown",
   "id": "27f1d710",
   "metadata": {},
   "source": [
    "Clean up"
   ]
  },
  {
   "cell_type": "code",
   "execution_count": null,
   "id": "a60211bd",
   "metadata": {},
   "outputs": [
    {
     "ename": "ResourceNotFoundError",
     "evalue": "(None) No assistant found with id 'asst_rD1xfVotyUT44vhSemhl9KDm'.\nCode: None\nMessage: No assistant found with id 'asst_rD1xfVotyUT44vhSemhl9KDm'.",
     "output_type": "error",
     "traceback": [
      "\u001b[31m---------------------------------------------------------------------------\u001b[39m",
      "\u001b[31mResourceNotFoundError\u001b[39m                     Traceback (most recent call last)",
      "\u001b[36mCell\u001b[39m\u001b[36m \u001b[39m\u001b[32mIn[33]\u001b[39m\u001b[32m, line 2\u001b[39m\n\u001b[32m      1\u001b[39m \u001b[38;5;66;03m# Delete the assistant when done\u001b[39;00m\n\u001b[32m----> \u001b[39m\u001b[32m2\u001b[39m \u001b[43mproject_client\u001b[49m\u001b[43m.\u001b[49m\u001b[43magents\u001b[49m\u001b[43m.\u001b[49m\u001b[43mdelete_agent\u001b[49m\u001b[43m(\u001b[49m\u001b[43magent\u001b[49m\u001b[43m.\u001b[49m\u001b[43mid\u001b[49m\u001b[43m)\u001b[49m\n\u001b[32m      3\u001b[39m \u001b[38;5;28mprint\u001b[39m(\u001b[33m\"\u001b[39m\u001b[33mDeleted agent\u001b[39m\u001b[33m\"\u001b[39m)\n\u001b[32m      4\u001b[39m project_client.agents.delete_thread(thread.id)\n",
      "\u001b[36mFile \u001b[39m\u001b[32m~/.local/lib/python3.12/site-packages/azure/core/tracing/decorator.py:119\u001b[39m, in \u001b[36mdistributed_trace.<locals>.decorator.<locals>.wrapper_use_tracer\u001b[39m\u001b[34m(*args, **kwargs)\u001b[39m\n\u001b[32m    117\u001b[39m \u001b[38;5;66;03m# If tracing is disabled globally and user didn't explicitly enable it, don't trace.\u001b[39;00m\n\u001b[32m    118\u001b[39m \u001b[38;5;28;01mif\u001b[39;00m user_enabled \u001b[38;5;129;01mis\u001b[39;00m \u001b[38;5;28;01mFalse\u001b[39;00m \u001b[38;5;129;01mor\u001b[39;00m (\u001b[38;5;129;01mnot\u001b[39;00m tracing_enabled \u001b[38;5;129;01mand\u001b[39;00m user_enabled \u001b[38;5;129;01mis\u001b[39;00m \u001b[38;5;28;01mNone\u001b[39;00m):\n\u001b[32m--> \u001b[39m\u001b[32m119\u001b[39m     \u001b[38;5;28;01mreturn\u001b[39;00m \u001b[43mfunc\u001b[49m\u001b[43m(\u001b[49m\u001b[43m*\u001b[49m\u001b[43margs\u001b[49m\u001b[43m,\u001b[49m\u001b[43m \u001b[49m\u001b[43m*\u001b[49m\u001b[43m*\u001b[49m\u001b[43mkwargs\u001b[49m\u001b[43m)\u001b[49m\n\u001b[32m    121\u001b[39m \u001b[38;5;66;03m# Merge span is parameter is set, but only if no explicit parent are passed\u001b[39;00m\n\u001b[32m    122\u001b[39m \u001b[38;5;28;01mif\u001b[39;00m merge_span \u001b[38;5;129;01mand\u001b[39;00m \u001b[38;5;129;01mnot\u001b[39;00m passed_in_parent:\n",
      "\u001b[36mFile \u001b[39m\u001b[32m~/.local/lib/python3.12/site-packages/azure/ai/projects/operations/_patch.py:3358\u001b[39m, in \u001b[36mAgentsOperations.delete_agent\u001b[39m\u001b[34m(self, agent_id, **kwargs)\u001b[39m\n\u001b[32m   3348\u001b[39m \u001b[38;5;129m@distributed_trace\u001b[39m\n\u001b[32m   3349\u001b[39m \u001b[38;5;28;01mdef\u001b[39;00m\u001b[38;5;250m \u001b[39m\u001b[34mdelete_agent\u001b[39m(\u001b[38;5;28mself\u001b[39m, agent_id: \u001b[38;5;28mstr\u001b[39m, **kwargs: Any) -> _models.AgentDeletionStatus:\n\u001b[32m   3350\u001b[39m \u001b[38;5;250m    \u001b[39m\u001b[33;03m\"\"\"Deletes an agent.\u001b[39;00m\n\u001b[32m   3351\u001b[39m \n\u001b[32m   3352\u001b[39m \u001b[33;03m    :param agent_id: Identifier of the agent. Required.\u001b[39;00m\n\u001b[32m   (...)\u001b[39m\u001b[32m   3356\u001b[39m \u001b[33;03m    :raises ~azure.core.exceptions.HttpResponseError:\u001b[39;00m\n\u001b[32m   3357\u001b[39m \u001b[33;03m    \"\"\"\u001b[39;00m\n\u001b[32m-> \u001b[39m\u001b[32m3358\u001b[39m     \u001b[38;5;28;01mreturn\u001b[39;00m \u001b[38;5;28;43msuper\u001b[39;49m\u001b[43m(\u001b[49m\u001b[43m)\u001b[49m\u001b[43m.\u001b[49m\u001b[43mdelete_agent\u001b[49m\u001b[43m(\u001b[49m\u001b[43magent_id\u001b[49m\u001b[43m,\u001b[49m\u001b[43m \u001b[49m\u001b[43m*\u001b[49m\u001b[43m*\u001b[49m\u001b[43mkwargs\u001b[49m\u001b[43m)\u001b[49m\n",
      "\u001b[36mFile \u001b[39m\u001b[32m~/.local/lib/python3.12/site-packages/azure/core/tracing/decorator.py:119\u001b[39m, in \u001b[36mdistributed_trace.<locals>.decorator.<locals>.wrapper_use_tracer\u001b[39m\u001b[34m(*args, **kwargs)\u001b[39m\n\u001b[32m    117\u001b[39m \u001b[38;5;66;03m# If tracing is disabled globally and user didn't explicitly enable it, don't trace.\u001b[39;00m\n\u001b[32m    118\u001b[39m \u001b[38;5;28;01mif\u001b[39;00m user_enabled \u001b[38;5;129;01mis\u001b[39;00m \u001b[38;5;28;01mFalse\u001b[39;00m \u001b[38;5;129;01mor\u001b[39;00m (\u001b[38;5;129;01mnot\u001b[39;00m tracing_enabled \u001b[38;5;129;01mand\u001b[39;00m user_enabled \u001b[38;5;129;01mis\u001b[39;00m \u001b[38;5;28;01mNone\u001b[39;00m):\n\u001b[32m--> \u001b[39m\u001b[32m119\u001b[39m     \u001b[38;5;28;01mreturn\u001b[39;00m \u001b[43mfunc\u001b[49m\u001b[43m(\u001b[49m\u001b[43m*\u001b[49m\u001b[43margs\u001b[49m\u001b[43m,\u001b[49m\u001b[43m \u001b[49m\u001b[43m*\u001b[49m\u001b[43m*\u001b[49m\u001b[43mkwargs\u001b[49m\u001b[43m)\u001b[49m\n\u001b[32m    121\u001b[39m \u001b[38;5;66;03m# Merge span is parameter is set, but only if no explicit parent are passed\u001b[39;00m\n\u001b[32m    122\u001b[39m \u001b[38;5;28;01mif\u001b[39;00m merge_span \u001b[38;5;129;01mand\u001b[39;00m \u001b[38;5;129;01mnot\u001b[39;00m passed_in_parent:\n",
      "\u001b[36mFile \u001b[39m\u001b[32m~/.local/lib/python3.12/site-packages/azure/ai/projects/operations/_operations.py:2257\u001b[39m, in \u001b[36mAgentsOperations.delete_agent\u001b[39m\u001b[34m(self, agent_id, **kwargs)\u001b[39m\n\u001b[32m   2255\u001b[39m         \u001b[38;5;28;01mexcept\u001b[39;00m (StreamConsumedError, StreamClosedError):\n\u001b[32m   2256\u001b[39m             \u001b[38;5;28;01mpass\u001b[39;00m\n\u001b[32m-> \u001b[39m\u001b[32m2257\u001b[39m     \u001b[43mmap_error\u001b[49m\u001b[43m(\u001b[49m\u001b[43mstatus_code\u001b[49m\u001b[43m=\u001b[49m\u001b[43mresponse\u001b[49m\u001b[43m.\u001b[49m\u001b[43mstatus_code\u001b[49m\u001b[43m,\u001b[49m\u001b[43m \u001b[49m\u001b[43mresponse\u001b[49m\u001b[43m=\u001b[49m\u001b[43mresponse\u001b[49m\u001b[43m,\u001b[49m\u001b[43m \u001b[49m\u001b[43merror_map\u001b[49m\u001b[43m=\u001b[49m\u001b[43merror_map\u001b[49m\u001b[43m)\u001b[49m\n\u001b[32m   2258\u001b[39m     \u001b[38;5;28;01mraise\u001b[39;00m HttpResponseError(response=response)\n\u001b[32m   2260\u001b[39m \u001b[38;5;28;01mif\u001b[39;00m _stream:\n",
      "\u001b[36mFile \u001b[39m\u001b[32m~/.local/lib/python3.12/site-packages/azure/core/exceptions.py:163\u001b[39m, in \u001b[36mmap_error\u001b[39m\u001b[34m(status_code, response, error_map)\u001b[39m\n\u001b[32m    161\u001b[39m     \u001b[38;5;28;01mreturn\u001b[39;00m\n\u001b[32m    162\u001b[39m error = error_type(response=response)\n\u001b[32m--> \u001b[39m\u001b[32m163\u001b[39m \u001b[38;5;28;01mraise\u001b[39;00m error\n",
      "\u001b[31mResourceNotFoundError\u001b[39m: (None) No assistant found with id 'asst_rD1xfVotyUT44vhSemhl9KDm'.\nCode: None\nMessage: No assistant found with id 'asst_rD1xfVotyUT44vhSemhl9KDm'."
     ]
    }
   ],
   "source": [
    "#Delete the assistant when done\n",
    "project_client.agents.delete_agent(agent.id)\n",
    "print(\"Deleted agent\")\n",
    "project_client.agents.delete_thread(thread.id)\n",
    "print(\"Deleted thread\")"
   ]
  }
 ],
 "metadata": {
  "kernelspec": {
   "display_name": "Python 3",
   "language": "python",
   "name": "python3"
  },
  "language_info": {
   "codemirror_mode": {
    "name": "ipython",
    "version": 3
   },
   "file_extension": ".py",
   "mimetype": "text/x-python",
   "name": "python",
   "nbconvert_exporter": "python",
   "pygments_lexer": "ipython3",
   "version": "3.12.10"
  }
 },
 "nbformat": 4,
 "nbformat_minor": 5
}
